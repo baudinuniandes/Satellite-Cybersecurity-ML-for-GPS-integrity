{
  "cells": [
    {
      "cell_type": "markdown",
      "source": [
        "# **Notebook para Entrenamiento y Afinamiento de Random Forest**\n",
        "Basado en datos de FlightRadar24 y sintéticos de spoofing.\n",
        "Se asume que el usuario tiene 3 archivos CSV:\n",
        "  - train_data.csv (datos íntegros de vuelos históricos + etiquetas generadas)\n",
        "  - val_data.csv   (datos íntegros de vuelos históricos + etiquetas generadas)\n",
        "  - test_data.csv  (datos íntegros de vuelos históricos + etiquetas generadas)\n",
        "\n",
        "###Cada CSV debe tener al menos las columnas:\n",
        "*   UTC\n",
        "*   Callsign\n",
        "*   Latitude\n",
        "*   Longitude\n",
        "*   Altitude\n",
        "*   Speed\n",
        "*   Direction\n",
        "*   Label: Label = 1 (íntegro) o 0 (no íntegro / spoofing)\n",
        "\n",
        "\n",
        "### **Estructura del notebook:**\n",
        "1. Instalación de dependencias\n",
        "2. Cargue de archivos CSV (train_data.csv/val_data.csv/test_data.csv)\n",
        "3. Importe y carga de datos\n",
        "4. Preparación de datos: limpieza, transformación, generación de spoofing sintético\n",
        "5. División de conjuntos y descripción\n",
        "6. Normalización con StandardScaler\n",
        "7. Distribución de clases\n",
        "8. Entrenamiento con mejores hiperparámetros\n",
        "9. Evaluación final en conjunto de prueba e impresión de métricas\n",
        "10. Entrenamiento final y evaluación en test\n",
        "11. Exportar modelo final\n"
      ],
      "metadata": {
        "id": "lOD43StuFsE2"
      }
    },
    {
      "cell_type": "code",
      "execution_count": null,
      "metadata": {
        "id": "uj0kmfvk-EbW"
      },
      "outputs": [],
      "source": []
    },
    {
      "cell_type": "markdown",
      "source": [
        "# **1. Instalación de dependencias**"
      ],
      "metadata": {
        "id": "GVdbyj_0LH4d"
      }
    },
    {
      "cell_type": "code",
      "execution_count": null,
      "metadata": {
        "colab": {
          "base_uri": "https://localhost:8080/",
          "height": 1000
        },
        "id": "UPI6k5cl-wrs",
        "outputId": "69a7fe31-be64-453d-bc13-41827c9edb64"
      },
      "outputs": [
        {
          "output_type": "stream",
          "name": "stdout",
          "text": [
            "Collecting pandas\n",
            "  Downloading pandas-2.2.3-cp311-cp311-manylinux_2_17_x86_64.manylinux2014_x86_64.whl.metadata (89 kB)\n",
            "\u001b[2K     \u001b[90m━━━━━━━━━━━━━━━━━━━━━━━━━━━━━━━━━━━━━━━━\u001b[0m \u001b[32m89.9/89.9 kB\u001b[0m \u001b[31m1.2 MB/s\u001b[0m eta \u001b[36m0:00:00\u001b[0m\n",
            "\u001b[?25hCollecting numpy\n",
            "  Downloading numpy-2.2.6-cp311-cp311-manylinux_2_17_x86_64.manylinux2014_x86_64.whl.metadata (62 kB)\n",
            "\u001b[2K     \u001b[90m━━━━━━━━━━━━━━━━━━━━━━━━━━━━━━━━━━━━━━━\u001b[0m \u001b[32m62.0/62.0 kB\u001b[0m \u001b[31m664.3 kB/s\u001b[0m eta \u001b[36m0:00:00\u001b[0m\n",
            "\u001b[?25hCollecting scikit-learn\n",
            "  Downloading scikit_learn-1.6.1-cp311-cp311-manylinux_2_17_x86_64.manylinux2014_x86_64.whl.metadata (18 kB)\n",
            "Collecting joblib\n",
            "  Downloading joblib-1.5.1-py3-none-any.whl.metadata (5.6 kB)\n",
            "Collecting xgboost\n",
            "  Downloading xgboost-3.0.2-py3-none-manylinux_2_28_x86_64.whl.metadata (2.1 kB)\n",
            "Collecting lightgbm\n",
            "  Downloading lightgbm-4.6.0-py3-none-manylinux_2_28_x86_64.whl.metadata (17 kB)\n",
            "Collecting imbalanced-learn\n",
            "  Downloading imbalanced_learn-0.13.0-py3-none-any.whl.metadata (8.8 kB)\n",
            "Collecting python-dateutil>=2.8.2 (from pandas)\n",
            "  Downloading python_dateutil-2.9.0.post0-py2.py3-none-any.whl.metadata (8.4 kB)\n",
            "Collecting pytz>=2020.1 (from pandas)\n",
            "  Downloading pytz-2025.2-py2.py3-none-any.whl.metadata (22 kB)\n",
            "Collecting tzdata>=2022.7 (from pandas)\n",
            "  Downloading tzdata-2025.2-py2.py3-none-any.whl.metadata (1.4 kB)\n",
            "Collecting scipy>=1.6.0 (from scikit-learn)\n",
            "  Downloading scipy-1.15.3-cp311-cp311-manylinux_2_17_x86_64.manylinux2014_x86_64.whl.metadata (61 kB)\n",
            "\u001b[2K     \u001b[90m━━━━━━━━━━━━━━━━━━━━━━━━━━━━━━━━━━━━━━━\u001b[0m \u001b[32m62.0/62.0 kB\u001b[0m \u001b[31m840.2 kB/s\u001b[0m eta \u001b[36m0:00:00\u001b[0m\n",
            "\u001b[?25hCollecting threadpoolctl>=3.1.0 (from scikit-learn)\n",
            "  Downloading threadpoolctl-3.6.0-py3-none-any.whl.metadata (13 kB)\n",
            "Collecting nvidia-nccl-cu12 (from xgboost)\n",
            "  Downloading nvidia_nccl_cu12-2.27.3-py3-none-manylinux2014_x86_64.manylinux_2_17_x86_64.whl.metadata (2.0 kB)\n",
            "Collecting sklearn-compat<1,>=0.1 (from imbalanced-learn)\n",
            "  Downloading sklearn_compat-0.1.3-py3-none-any.whl.metadata (18 kB)\n",
            "Collecting six>=1.5 (from python-dateutil>=2.8.2->pandas)\n",
            "  Downloading six-1.17.0-py2.py3-none-any.whl.metadata (1.7 kB)\n",
            "Downloading pandas-2.2.3-cp311-cp311-manylinux_2_17_x86_64.manylinux2014_x86_64.whl (13.1 MB)\n",
            "\u001b[2K   \u001b[90m━━━━━━━━━━━━━━━━━━━━━━━━━━━━━━━━━━━━━━━━\u001b[0m \u001b[32m13.1/13.1 MB\u001b[0m \u001b[31m15.9 MB/s\u001b[0m eta \u001b[36m0:00:00\u001b[0m\n",
            "\u001b[?25hDownloading numpy-2.2.6-cp311-cp311-manylinux_2_17_x86_64.manylinux2014_x86_64.whl (16.8 MB)\n",
            "\u001b[2K   \u001b[90m━━━━━━━━━━━━━━━━━━━━━━━━━━━━━━━━━━━━━━━━\u001b[0m \u001b[32m16.8/16.8 MB\u001b[0m \u001b[31m25.7 MB/s\u001b[0m eta \u001b[36m0:00:00\u001b[0m\n",
            "\u001b[?25hDownloading scikit_learn-1.6.1-cp311-cp311-manylinux_2_17_x86_64.manylinux2014_x86_64.whl (13.5 MB)\n",
            "\u001b[2K   \u001b[90m━━━━━━━━━━━━━━━━━━━━━━━━━━━━━━━━━━━━━━━━\u001b[0m \u001b[32m13.5/13.5 MB\u001b[0m \u001b[31m35.6 MB/s\u001b[0m eta \u001b[36m0:00:00\u001b[0m\n",
            "\u001b[?25hDownloading joblib-1.5.1-py3-none-any.whl (307 kB)\n",
            "\u001b[2K   \u001b[90m━━━━━━━━━━━━━━━━━━━━━━━━━━━━━━━━━━━━━━━━\u001b[0m \u001b[32m307.7/307.7 kB\u001b[0m \u001b[31m17.9 MB/s\u001b[0m eta \u001b[36m0:00:00\u001b[0m\n",
            "\u001b[?25hDownloading xgboost-3.0.2-py3-none-manylinux_2_28_x86_64.whl (253.9 MB)\n",
            "\u001b[2K   \u001b[90m━━━━━━━━━━━━━━━━━━━━━━━━━━━━━━━━━━━━━━━━\u001b[0m \u001b[32m253.9/253.9 MB\u001b[0m \u001b[31m4.2 MB/s\u001b[0m eta \u001b[36m0:00:00\u001b[0m\n",
            "\u001b[?25hDownloading lightgbm-4.6.0-py3-none-manylinux_2_28_x86_64.whl (3.6 MB)\n",
            "\u001b[2K   \u001b[90m━━━━━━━━━━━━━━━━━━━━━━━━━━━━━━━━━━━━━━━━\u001b[0m \u001b[32m3.6/3.6 MB\u001b[0m \u001b[31m63.3 MB/s\u001b[0m eta \u001b[36m0:00:00\u001b[0m\n",
            "\u001b[?25hDownloading imbalanced_learn-0.13.0-py3-none-any.whl (238 kB)\n",
            "\u001b[2K   \u001b[90m━━━━━━━━━━━━━━━━━━━━━━━━━━━━━━━━━━━━━━━━\u001b[0m \u001b[32m238.4/238.4 kB\u001b[0m \u001b[31m18.2 MB/s\u001b[0m eta \u001b[36m0:00:00\u001b[0m\n",
            "\u001b[?25hDownloading python_dateutil-2.9.0.post0-py2.py3-none-any.whl (229 kB)\n",
            "\u001b[2K   \u001b[90m━━━━━━━━━━━━━━━━━━━━━━━━━━━━━━━━━━━━━━━━\u001b[0m \u001b[32m229.9/229.9 kB\u001b[0m \u001b[31m17.2 MB/s\u001b[0m eta \u001b[36m0:00:00\u001b[0m\n",
            "\u001b[?25hDownloading pytz-2025.2-py2.py3-none-any.whl (509 kB)\n",
            "\u001b[2K   \u001b[90m━━━━━━━━━━━━━━━━━━━━━━━━━━━━━━━━━━━━━━━━\u001b[0m \u001b[32m509.2/509.2 kB\u001b[0m \u001b[31m19.1 MB/s\u001b[0m eta \u001b[36m0:00:00\u001b[0m\n",
            "\u001b[?25hDownloading scipy-1.15.3-cp311-cp311-manylinux_2_17_x86_64.manylinux2014_x86_64.whl (37.7 MB)\n",
            "\u001b[2K   \u001b[90m━━━━━━━━━━━━━━━━━━━━━━━━━━━━━━━━━━━━━━━━\u001b[0m \u001b[32m37.7/37.7 MB\u001b[0m \u001b[31m24.4 MB/s\u001b[0m eta \u001b[36m0:00:00\u001b[0m\n",
            "\u001b[?25hDownloading sklearn_compat-0.1.3-py3-none-any.whl (18 kB)\n",
            "Downloading threadpoolctl-3.6.0-py3-none-any.whl (18 kB)\n",
            "Downloading tzdata-2025.2-py2.py3-none-any.whl (347 kB)\n",
            "\u001b[2K   \u001b[90m━━━━━━━━━━━━━━━━━━━━━━━━━━━━━━━━━━━━━━━━\u001b[0m \u001b[32m347.8/347.8 kB\u001b[0m \u001b[31m23.2 MB/s\u001b[0m eta \u001b[36m0:00:00\u001b[0m\n",
            "\u001b[?25hDownloading nvidia_nccl_cu12-2.27.3-py3-none-manylinux2014_x86_64.manylinux_2_17_x86_64.whl (322.4 MB)\n",
            "\u001b[2K   \u001b[90m━━━━━━━━━━━━━━━━━━━━━━━━━━━━━━━━━━━━━━━━\u001b[0m \u001b[32m322.4/322.4 MB\u001b[0m \u001b[31m4.0 MB/s\u001b[0m eta \u001b[36m0:00:00\u001b[0m\n",
            "\u001b[?25hDownloading six-1.17.0-py2.py3-none-any.whl (11 kB)\n",
            "Installing collected packages: pytz, tzdata, threadpoolctl, six, nvidia-nccl-cu12, numpy, joblib, scipy, python-dateutil, xgboost, scikit-learn, pandas, lightgbm, sklearn-compat, imbalanced-learn\n",
            "  Attempting uninstall: pytz\n",
            "    Found existing installation: pytz 2025.2\n",
            "    Uninstalling pytz-2025.2:\n",
            "      Successfully uninstalled pytz-2025.2\n",
            "  Attempting uninstall: tzdata\n",
            "    Found existing installation: tzdata 2025.2\n",
            "    Uninstalling tzdata-2025.2:\n",
            "      Successfully uninstalled tzdata-2025.2\n",
            "  Attempting uninstall: threadpoolctl\n",
            "    Found existing installation: threadpoolctl 3.6.0\n",
            "    Uninstalling threadpoolctl-3.6.0:\n",
            "      Successfully uninstalled threadpoolctl-3.6.0\n",
            "  Attempting uninstall: six\n",
            "    Found existing installation: six 1.17.0\n",
            "    Uninstalling six-1.17.0:\n",
            "      Successfully uninstalled six-1.17.0\n",
            "  Attempting uninstall: nvidia-nccl-cu12\n",
            "    Found existing installation: nvidia-nccl-cu12 2.21.5\n",
            "    Uninstalling nvidia-nccl-cu12-2.21.5:\n",
            "      Successfully uninstalled nvidia-nccl-cu12-2.21.5\n",
            "  Attempting uninstall: numpy\n",
            "    Found existing installation: numpy 2.0.2\n",
            "    Uninstalling numpy-2.0.2:\n",
            "      Successfully uninstalled numpy-2.0.2\n",
            "  Attempting uninstall: joblib\n",
            "    Found existing installation: joblib 1.5.1\n",
            "    Uninstalling joblib-1.5.1:\n",
            "      Successfully uninstalled joblib-1.5.1\n",
            "  Attempting uninstall: scipy\n",
            "    Found existing installation: scipy 1.15.3\n",
            "    Uninstalling scipy-1.15.3:\n",
            "      Successfully uninstalled scipy-1.15.3\n",
            "  Attempting uninstall: python-dateutil\n",
            "    Found existing installation: python-dateutil 2.9.0.post0\n",
            "    Uninstalling python-dateutil-2.9.0.post0:\n",
            "      Successfully uninstalled python-dateutil-2.9.0.post0\n",
            "  Attempting uninstall: xgboost\n",
            "    Found existing installation: xgboost 2.1.4\n",
            "    Uninstalling xgboost-2.1.4:\n",
            "      Successfully uninstalled xgboost-2.1.4\n",
            "  Attempting uninstall: scikit-learn\n",
            "    Found existing installation: scikit-learn 1.6.1\n",
            "    Uninstalling scikit-learn-1.6.1:\n",
            "      Successfully uninstalled scikit-learn-1.6.1\n",
            "  Attempting uninstall: pandas\n",
            "    Found existing installation: pandas 2.2.2\n",
            "    Uninstalling pandas-2.2.2:\n",
            "      Successfully uninstalled pandas-2.2.2\n",
            "  Attempting uninstall: lightgbm\n",
            "    Found existing installation: lightgbm 4.5.0\n",
            "    Uninstalling lightgbm-4.5.0:\n",
            "      Successfully uninstalled lightgbm-4.5.0\n",
            "  Attempting uninstall: sklearn-compat\n",
            "    Found existing installation: sklearn-compat 0.1.3\n",
            "    Uninstalling sklearn-compat-0.1.3:\n",
            "      Successfully uninstalled sklearn-compat-0.1.3\n",
            "  Attempting uninstall: imbalanced-learn\n",
            "    Found existing installation: imbalanced-learn 0.13.0\n",
            "    Uninstalling imbalanced-learn-0.13.0:\n",
            "      Successfully uninstalled imbalanced-learn-0.13.0\n",
            "\u001b[31mERROR: pip's dependency resolver does not currently take into account all the packages that are installed. This behaviour is the source of the following dependency conflicts.\n",
            "google-colab 1.0.0 requires pandas==2.2.2, but you have pandas 2.2.3 which is incompatible.\n",
            "tensorflow 2.18.0 requires numpy<2.1.0,>=1.26.0, but you have numpy 2.2.6 which is incompatible.\n",
            "torch 2.6.0+cu124 requires nvidia-cublas-cu12==12.4.5.8; platform_system == \"Linux\" and platform_machine == \"x86_64\", but you have nvidia-cublas-cu12 12.5.3.2 which is incompatible.\n",
            "torch 2.6.0+cu124 requires nvidia-cuda-cupti-cu12==12.4.127; platform_system == \"Linux\" and platform_machine == \"x86_64\", but you have nvidia-cuda-cupti-cu12 12.5.82 which is incompatible.\n",
            "torch 2.6.0+cu124 requires nvidia-cuda-nvrtc-cu12==12.4.127; platform_system == \"Linux\" and platform_machine == \"x86_64\", but you have nvidia-cuda-nvrtc-cu12 12.5.82 which is incompatible.\n",
            "torch 2.6.0+cu124 requires nvidia-cuda-runtime-cu12==12.4.127; platform_system == \"Linux\" and platform_machine == \"x86_64\", but you have nvidia-cuda-runtime-cu12 12.5.82 which is incompatible.\n",
            "torch 2.6.0+cu124 requires nvidia-cudnn-cu12==9.1.0.70; platform_system == \"Linux\" and platform_machine == \"x86_64\", but you have nvidia-cudnn-cu12 9.3.0.75 which is incompatible.\n",
            "torch 2.6.0+cu124 requires nvidia-cufft-cu12==11.2.1.3; platform_system == \"Linux\" and platform_machine == \"x86_64\", but you have nvidia-cufft-cu12 11.2.3.61 which is incompatible.\n",
            "torch 2.6.0+cu124 requires nvidia-curand-cu12==10.3.5.147; platform_system == \"Linux\" and platform_machine == \"x86_64\", but you have nvidia-curand-cu12 10.3.6.82 which is incompatible.\n",
            "torch 2.6.0+cu124 requires nvidia-cusolver-cu12==11.6.1.9; platform_system == \"Linux\" and platform_machine == \"x86_64\", but you have nvidia-cusolver-cu12 11.6.3.83 which is incompatible.\n",
            "torch 2.6.0+cu124 requires nvidia-cusparse-cu12==12.3.1.170; platform_system == \"Linux\" and platform_machine == \"x86_64\", but you have nvidia-cusparse-cu12 12.5.1.3 which is incompatible.\n",
            "torch 2.6.0+cu124 requires nvidia-nccl-cu12==2.21.5; platform_system == \"Linux\" and platform_machine == \"x86_64\", but you have nvidia-nccl-cu12 2.27.3 which is incompatible.\n",
            "torch 2.6.0+cu124 requires nvidia-nvjitlink-cu12==12.4.127; platform_system == \"Linux\" and platform_machine == \"x86_64\", but you have nvidia-nvjitlink-cu12 12.5.82 which is incompatible.\n",
            "numba 0.60.0 requires numpy<2.1,>=1.22, but you have numpy 2.2.6 which is incompatible.\u001b[0m\u001b[31m\n",
            "\u001b[0mSuccessfully installed imbalanced-learn-0.13.0 joblib-1.5.1 lightgbm-4.6.0 numpy-2.2.6 nvidia-nccl-cu12-2.27.3 pandas-2.2.3 python-dateutil-2.9.0.post0 pytz-2025.2 scikit-learn-1.6.1 scipy-1.15.3 six-1.17.0 sklearn-compat-0.1.3 threadpoolctl-3.6.0 tzdata-2025.2 xgboost-3.0.2\n"
          ]
        },
        {
          "output_type": "display_data",
          "data": {
            "application/vnd.colab-display-data+json": {
              "pip_warning": {
                "packages": [
                  "dateutil",
                  "six"
                ]
              },
              "id": "3b3dab47ad774475bef3c5f311f95e38"
            }
          },
          "metadata": {}
        }
      ],
      "source": [
        "# === 1: Instalación de dependencias ===\n",
        "!pip install --upgrade --force-reinstall pandas numpy scikit-learn joblib xgboost lightgbm imbalanced-learn\n",
        "#\n",
        "#    numpy - for ndarrays\n",
        "#    pandas - for DataFrames\n",
        "#    scikit-learn\n",
        "#    joblib\n",
        "#    xgboost\n",
        "#    lightgbm\n",
        "#    matplotlib.pyplot - for plotting\n",
        "#    imbalanced-learn\n"
      ]
    },
    {
      "cell_type": "markdown",
      "source": [
        "# **2. Cargue de archivos CSV (train_data.csv/val_data.csv/test_data.csv)**"
      ],
      "metadata": {
        "id": "KQocTwdTLX4O"
      }
    },
    {
      "cell_type": "code",
      "execution_count": null,
      "metadata": {
        "colab": {
          "base_uri": "https://localhost:8080/",
          "height": 163
        },
        "id": "ifxA3_8T-1cF",
        "outputId": "48117a35-dcef-4bf8-fbe8-7583b7e31d2a"
      },
      "outputs": [
        {
          "output_type": "stream",
          "name": "stdout",
          "text": [
            "🔃 Sube aquí tus archivos: train_data.csv, val_data.csv, test_data.csv\n"
          ]
        },
        {
          "output_type": "display_data",
          "data": {
            "text/plain": [
              "<IPython.core.display.HTML object>"
            ],
            "text/html": [
              "\n",
              "     <input type=\"file\" id=\"files-1c19bb66-eb65-46dd-aa77-9e515afff4df\" name=\"files[]\" multiple disabled\n",
              "        style=\"border:none\" />\n",
              "     <output id=\"result-1c19bb66-eb65-46dd-aa77-9e515afff4df\">\n",
              "      Upload widget is only available when the cell has been executed in the\n",
              "      current browser session. Please rerun this cell to enable.\n",
              "      </output>\n",
              "      <script>// Copyright 2017 Google LLC\n",
              "//\n",
              "// Licensed under the Apache License, Version 2.0 (the \"License\");\n",
              "// you may not use this file except in compliance with the License.\n",
              "// You may obtain a copy of the License at\n",
              "//\n",
              "//      http://www.apache.org/licenses/LICENSE-2.0\n",
              "//\n",
              "// Unless required by applicable law or agreed to in writing, software\n",
              "// distributed under the License is distributed on an \"AS IS\" BASIS,\n",
              "// WITHOUT WARRANTIES OR CONDITIONS OF ANY KIND, either express or implied.\n",
              "// See the License for the specific language governing permissions and\n",
              "// limitations under the License.\n",
              "\n",
              "/**\n",
              " * @fileoverview Helpers for google.colab Python module.\n",
              " */\n",
              "(function(scope) {\n",
              "function span(text, styleAttributes = {}) {\n",
              "  const element = document.createElement('span');\n",
              "  element.textContent = text;\n",
              "  for (const key of Object.keys(styleAttributes)) {\n",
              "    element.style[key] = styleAttributes[key];\n",
              "  }\n",
              "  return element;\n",
              "}\n",
              "\n",
              "// Max number of bytes which will be uploaded at a time.\n",
              "const MAX_PAYLOAD_SIZE = 100 * 1024;\n",
              "\n",
              "function _uploadFiles(inputId, outputId) {\n",
              "  const steps = uploadFilesStep(inputId, outputId);\n",
              "  const outputElement = document.getElementById(outputId);\n",
              "  // Cache steps on the outputElement to make it available for the next call\n",
              "  // to uploadFilesContinue from Python.\n",
              "  outputElement.steps = steps;\n",
              "\n",
              "  return _uploadFilesContinue(outputId);\n",
              "}\n",
              "\n",
              "// This is roughly an async generator (not supported in the browser yet),\n",
              "// where there are multiple asynchronous steps and the Python side is going\n",
              "// to poll for completion of each step.\n",
              "// This uses a Promise to block the python side on completion of each step,\n",
              "// then passes the result of the previous step as the input to the next step.\n",
              "function _uploadFilesContinue(outputId) {\n",
              "  const outputElement = document.getElementById(outputId);\n",
              "  const steps = outputElement.steps;\n",
              "\n",
              "  const next = steps.next(outputElement.lastPromiseValue);\n",
              "  return Promise.resolve(next.value.promise).then((value) => {\n",
              "    // Cache the last promise value to make it available to the next\n",
              "    // step of the generator.\n",
              "    outputElement.lastPromiseValue = value;\n",
              "    return next.value.response;\n",
              "  });\n",
              "}\n",
              "\n",
              "/**\n",
              " * Generator function which is called between each async step of the upload\n",
              " * process.\n",
              " * @param {string} inputId Element ID of the input file picker element.\n",
              " * @param {string} outputId Element ID of the output display.\n",
              " * @return {!Iterable<!Object>} Iterable of next steps.\n",
              " */\n",
              "function* uploadFilesStep(inputId, outputId) {\n",
              "  const inputElement = document.getElementById(inputId);\n",
              "  inputElement.disabled = false;\n",
              "\n",
              "  const outputElement = document.getElementById(outputId);\n",
              "  outputElement.innerHTML = '';\n",
              "\n",
              "  const pickedPromise = new Promise((resolve) => {\n",
              "    inputElement.addEventListener('change', (e) => {\n",
              "      resolve(e.target.files);\n",
              "    });\n",
              "  });\n",
              "\n",
              "  const cancel = document.createElement('button');\n",
              "  inputElement.parentElement.appendChild(cancel);\n",
              "  cancel.textContent = 'Cancel upload';\n",
              "  const cancelPromise = new Promise((resolve) => {\n",
              "    cancel.onclick = () => {\n",
              "      resolve(null);\n",
              "    };\n",
              "  });\n",
              "\n",
              "  // Wait for the user to pick the files.\n",
              "  const files = yield {\n",
              "    promise: Promise.race([pickedPromise, cancelPromise]),\n",
              "    response: {\n",
              "      action: 'starting',\n",
              "    }\n",
              "  };\n",
              "\n",
              "  cancel.remove();\n",
              "\n",
              "  // Disable the input element since further picks are not allowed.\n",
              "  inputElement.disabled = true;\n",
              "\n",
              "  if (!files) {\n",
              "    return {\n",
              "      response: {\n",
              "        action: 'complete',\n",
              "      }\n",
              "    };\n",
              "  }\n",
              "\n",
              "  for (const file of files) {\n",
              "    const li = document.createElement('li');\n",
              "    li.append(span(file.name, {fontWeight: 'bold'}));\n",
              "    li.append(span(\n",
              "        `(${file.type || 'n/a'}) - ${file.size} bytes, ` +\n",
              "        `last modified: ${\n",
              "            file.lastModifiedDate ? file.lastModifiedDate.toLocaleDateString() :\n",
              "                                    'n/a'} - `));\n",
              "    const percent = span('0% done');\n",
              "    li.appendChild(percent);\n",
              "\n",
              "    outputElement.appendChild(li);\n",
              "\n",
              "    const fileDataPromise = new Promise((resolve) => {\n",
              "      const reader = new FileReader();\n",
              "      reader.onload = (e) => {\n",
              "        resolve(e.target.result);\n",
              "      };\n",
              "      reader.readAsArrayBuffer(file);\n",
              "    });\n",
              "    // Wait for the data to be ready.\n",
              "    let fileData = yield {\n",
              "      promise: fileDataPromise,\n",
              "      response: {\n",
              "        action: 'continue',\n",
              "      }\n",
              "    };\n",
              "\n",
              "    // Use a chunked sending to avoid message size limits. See b/62115660.\n",
              "    let position = 0;\n",
              "    do {\n",
              "      const length = Math.min(fileData.byteLength - position, MAX_PAYLOAD_SIZE);\n",
              "      const chunk = new Uint8Array(fileData, position, length);\n",
              "      position += length;\n",
              "\n",
              "      const base64 = btoa(String.fromCharCode.apply(null, chunk));\n",
              "      yield {\n",
              "        response: {\n",
              "          action: 'append',\n",
              "          file: file.name,\n",
              "          data: base64,\n",
              "        },\n",
              "      };\n",
              "\n",
              "      let percentDone = fileData.byteLength === 0 ?\n",
              "          100 :\n",
              "          Math.round((position / fileData.byteLength) * 100);\n",
              "      percent.textContent = `${percentDone}% done`;\n",
              "\n",
              "    } while (position < fileData.byteLength);\n",
              "  }\n",
              "\n",
              "  // All done.\n",
              "  yield {\n",
              "    response: {\n",
              "      action: 'complete',\n",
              "    }\n",
              "  };\n",
              "}\n",
              "\n",
              "scope.google = scope.google || {};\n",
              "scope.google.colab = scope.google.colab || {};\n",
              "scope.google.colab._files = {\n",
              "  _uploadFiles,\n",
              "  _uploadFilesContinue,\n",
              "};\n",
              "})(self);\n",
              "</script> "
            ]
          },
          "metadata": {}
        },
        {
          "output_type": "stream",
          "name": "stdout",
          "text": [
            "Saving test_data2.csv to test_data2.csv\n",
            "Saving train_data2.csv to train_data2.csv\n",
            "Saving val_data2.csv to val_data2.csv\n"
          ]
        }
      ],
      "source": [
        "# === 2: Cargue de archivos CSV (train/val/test) ===\n",
        "from google.colab import files\n",
        "\n",
        "print(\"🔃 Cargar aquí los archivos: train_data.csv, val_data.csv, test_data.csv\")\n",
        "uploaded = files.upload()\n"
      ]
    },
    {
      "cell_type": "markdown",
      "source": [
        "# **3. Importe y carga de datos**"
      ],
      "metadata": {
        "id": "vjuO9WjhLdtl"
      }
    },
    {
      "cell_type": "code",
      "execution_count": null,
      "metadata": {
        "colab": {
          "base_uri": "https://localhost:8080/"
        },
        "id": "tgVNZhXh-7aB",
        "outputId": "d0ff633b-3565-42ae-df66-8f127c46b6bd"
      },
      "outputs": [
        {
          "output_type": "stream",
          "name": "stdout",
          "text": [
            "✅ Datos cargados:\n",
            "  Train: (3184, 8)\n",
            "  Val:   (749, 8)\n",
            "  Test:  (940, 8)\n"
          ]
        }
      ],
      "source": [
        "# === 3: Importe y carga de datos ===\n",
        "import pandas as pd\n",
        "import numpy as np\n",
        "import joblib\n",
        "import matplotlib.pyplot as plt\n",
        "import seaborn as sns\n",
        "\n",
        "from math import radians, sin, cos, sqrt, atan2, degrees\n",
        "from sklearn.ensemble import RandomForestClassifier\n",
        "from sklearn.model_selection import (\n",
        "    StratifiedKFold, GridSearchCV, train_test_split\n",
        ")\n",
        "from sklearn.preprocessing import StandardScaler\n",
        "from sklearn.metrics import (\n",
        "    accuracy_score, precision_score, recall_score,\n",
        "    f1_score, confusion_matrix, roc_auc_score,\n",
        "    RocCurveDisplay\n",
        ")\n",
        "from imblearn.over_sampling import SMOTE  # opcional\n",
        "\n",
        "# Configuración visual\n",
        "sns.set(style=\"whitegrid\")\n",
        "plt.rcParams[\"figure.figsize\"] = (8, 6)\n",
        "\n",
        "# Lectura de CSVs (suponemos que se han subido con nombres correctos)\n",
        "train_df = pd.read_csv(\"train_data.csv\", parse_dates=[\"UTC\"])\n",
        "val_df   = pd.read_csv(\"val_data.csv\",   parse_dates=[\"UTC\"])\n",
        "test_df  = pd.read_csv(\"test_data.csv\",  parse_dates=[\"UTC\"])\n",
        "\n",
        "print(\"✅ Datos cargados:\")\n",
        "print(f\"  Train: {train_df.shape}\")\n",
        "print(f\"  Val:   {val_df.shape}\")\n",
        "print(f\"  Test:  {test_df.shape}\")\n"
      ]
    },
    {
      "cell_type": "markdown",
      "source": [
        "# **4. Preparación de datos: limpieza, transformación, generación de spoofing sintético**"
      ],
      "metadata": {
        "id": "dmlgsARXNXp9"
      }
    },
    {
      "cell_type": "code",
      "source": [
        "# === 4.1: Limpieza de datos ===\n",
        "def clean_df(df, name):\n",
        "    before = df.shape[0]\n",
        "    # Eliminar duplicados exactos\n",
        "    df = df.drop_duplicates()\n",
        "    # Eliminar filas con valores nulos en columnas clave\n",
        "    df = df.dropna(subset=[\"Latitude\", \"Longitude\", \"Altitude\", \"Speed\", \"Direction\"])\n",
        "    after = df.shape[0]\n",
        "    print(f\"[{name}] Filas eliminadas (duplicados/nulos): {before - after}\")\n",
        "    return df.reset_index(drop=True)\n",
        "\n",
        "train_df = clean_df(train_df, \"Train\")\n",
        "val_df   = clean_df(val_df,   \"Val\")\n",
        "test_df  = clean_df(test_df,  \"Test\")\n"
      ],
      "metadata": {
        "colab": {
          "base_uri": "https://localhost:8080/"
        },
        "id": "ChscD01OXXKr",
        "outputId": "c8347bb1-4291-42cf-fba5-05edbeb3b47f"
      },
      "execution_count": null,
      "outputs": [
        {
          "output_type": "stream",
          "name": "stdout",
          "text": [
            "[Train] Filas eliminadas (duplicados/nulos): 0\n",
            "[Val] Filas eliminadas (duplicados/nulos): 0\n",
            "[Test] Filas eliminadas (duplicados/nulos): 0\n"
          ]
        }
      ]
    },
    {
      "cell_type": "code",
      "source": [
        "# === 4.2: Generar etiquetas que faltan ===\n",
        "def generate_synthetic_labels(df, name, seed=42, ratio=0.2):\n",
        "    \"\"\"\n",
        "    Si 'Label' no existe, crea la columna y asigna 0/1 sintético (20% anomalías).\n",
        "    \"\"\"\n",
        "    if \"Label\" not in df.columns:\n",
        "        n = df.shape[0]\n",
        "        labels = np.ones(n, dtype=int)\n",
        "        np.random.seed(seed)\n",
        "        idx_anom = np.random.choice(n, int(n * ratio), replace=False)\n",
        "        labels[idx_anom] = 0\n",
        "        df[\"Label\"] = labels\n",
        "        print(f\"[{name}] Etiquetas sintéticas generadas: {len(idx_anom)} anomalías (Label=0)\")\n",
        "    else:\n",
        "        print(f\"[{name}] Ya existe columna 'Label' → no se regeneran.\")\n",
        "    return df\n",
        "\n",
        "train_df = generate_synthetic_labels(train_df, \"Train\")\n",
        "val_df   = generate_synthetic_labels(val_df,   \"Val\")\n",
        "test_df  = generate_synthetic_labels(test_df,  \"Test\")\n",
        "\n",
        "# Revisamos distribución de clases después\n",
        "print(\"\\nDistribución de etiquetas tras generación:\")\n",
        "print(\"Train:\\n\", train_df[\"Label\"].value_counts(normalize=True))\n",
        "print(\"Val:\\n\",   val_df[\"Label\"].value_counts(normalize=True))\n",
        "print(\"Test:\\n\",  test_df[\"Label\"].value_counts(normalize=True))\n"
      ],
      "metadata": {
        "colab": {
          "base_uri": "https://localhost:8080/"
        },
        "id": "T8GF1CTsX9v8",
        "outputId": "2df707e2-4d78-40d2-aa44-59fb26ac8834"
      },
      "execution_count": null,
      "outputs": [
        {
          "output_type": "stream",
          "name": "stdout",
          "text": [
            "[Train] Ya existe columna 'Label' → no se regeneran.\n",
            "[Val] Ya existe columna 'Label' → no se regeneran.\n",
            "[Test] Ya existe columna 'Label' → no se regeneran.\n",
            "\n",
            "Distribución de etiquetas tras generación:\n",
            "Train:\n",
            " Label\n",
            "1    0.800251\n",
            "0    0.199749\n",
            "Name: proportion, dtype: float64\n",
            "Val:\n",
            " Label\n",
            "1    0.801068\n",
            "0    0.198932\n",
            "Name: proportion, dtype: float64\n",
            "Test:\n",
            " Label\n",
            "1    0.8\n",
            "0    0.2\n",
            "Name: proportion, dtype: float64\n"
          ]
        }
      ]
    },
    {
      "cell_type": "markdown",
      "source": [
        "# **5. División de conjuntos y descripción**"
      ],
      "metadata": {
        "id": "3ekZDMynNgQu"
      }
    },
    {
      "cell_type": "code",
      "source": [
        "# === 5.1: Función Harversine ===\n",
        "# Esta función se en carga de\n",
        "# Calcular la distancia entre dos coordenadas geográficas sobre la superficie terrestre.\n",
        "# Calcular el rumbo inicial o azimut desde el primer punto hacia el segundo.\n",
        "def haversine(lat1, lon1, lat2, lon2):\n",
        "    R = 6371000  # radio terrestre en metros\n",
        "    φ1, φ2 = radians(lat1), radians(lat2)\n",
        "    Δφ = radians(lat2 - lat1)\n",
        "    Δλ = radians(lon2 - lon1)\n",
        "    a = sin(Δφ/2)**2 + cos(φ1)*cos(φ2)*sin(Δλ/2)**2\n",
        "    d = 2 * R * atan2(sqrt(a), sqrt(1 - a))\n",
        "    y = sin(Δλ) * cos(φ2)\n",
        "    x = cos(φ1)*sin(φ2) - sin(φ1)*cos(φ2)*cos(Δλ)\n",
        "    θ = (degrees(atan2(y, x)) + 360) % 360\n",
        "    return d, θ\n"
      ],
      "metadata": {
        "id": "qLtnmllwYB_x"
      },
      "execution_count": null,
      "outputs": []
    },
    {
      "cell_type": "code",
      "source": [
        "# === 5.2: Función para extraer variables ===\n",
        "def prepare_features(df):\n",
        "    \"\"\"\n",
        "    Dado un DataFrame con columnas UTC, Latitude, Longitude, Altitude, Speed, Direction, Label,\n",
        "    devuelve:\n",
        "      X: DataFrame con columnas [dist, bearing, Altitude, Speed, Direction, hour, minute]\n",
        "      y: array de etiquetas (omitimos la primer fila)\n",
        "    \"\"\"\n",
        "    df = df.sort_values(\"UTC\").reset_index(drop=True)\n",
        "    n = df.shape[0]\n",
        "\n",
        "    dists, bears = [0.0], [0.0]  # colocar ceros para la fila 0\n",
        "    for i in range(1, n):\n",
        "        lat0, lon0 = df.loc[i-1, \"Latitude\"], df.loc[i-1, \"Longitude\"]\n",
        "        lat1, lon1 = df.loc[i,   \"Latitude\"], df.loc[i,   \"Longitude\"]\n",
        "        d, b = haversine(lat0, lon0, lat1, lon1)\n",
        "        dists.append(d)\n",
        "        bears.append(b)\n",
        "\n",
        "    # Extraemos Altitude, Speed, Direction, hora y minuto\n",
        "    altitude = df[\"Altitude\"].values\n",
        "    speed    = df[\"Speed\"].values\n",
        "    direction= df[\"Direction\"].values\n",
        "    hour     = df[\"UTC\"].dt.hour.values\n",
        "    minute   = df[\"UTC\"].dt.minute.values\n",
        "\n",
        "    X = pd.DataFrame({\n",
        "        \"dist\":      np.array(dists, dtype=np.float32),\n",
        "        \"bearing\":   np.array(bears, dtype=np.float32),\n",
        "        \"altitude\":  altitude.astype(np.float32),\n",
        "        \"speed\":     speed.astype(np.float32),\n",
        "        \"direction\": direction.astype(np.float32),\n",
        "        \"hour\":      hour.astype(np.int32),\n",
        "        \"minute\":    minute.astype(np.int32)\n",
        "    })\n",
        "\n",
        "    # Las etiquetas, salvo la primer fila (no tiene feature de continuidad significativo)\n",
        "    y = df[\"Label\"].values.copy()\n",
        "    return X.iloc[1:].reset_index(drop=True), y[1:]\n",
        "\n",
        "# Aplicamos a cada conjunto\n",
        "X_train, y_train = prepare_features(train_df)\n",
        "X_val,   y_val   = prepare_features(val_df)\n",
        "X_test,  y_test  = prepare_features(test_df)\n",
        "\n",
        "print(\"\\n✅ Features construidos:\")\n",
        "print(f\"  X_train: {X_train.shape},   y_train: {y_train.shape}\")\n",
        "print(f\"  X_val:   {X_val.shape},   y_val:   {y_val.shape}\")\n",
        "print(f\"  X_test:  {X_test.shape},  y_test:  {y_test.shape}\")\n"
      ],
      "metadata": {
        "colab": {
          "base_uri": "https://localhost:8080/"
        },
        "id": "rdBm0kk6YE_P",
        "outputId": "561cd7e3-1a5b-43c9-eb7a-61f79d98a936"
      },
      "execution_count": null,
      "outputs": [
        {
          "output_type": "stream",
          "name": "stdout",
          "text": [
            "\n",
            "✅ Features construidos:\n",
            "  X_train: (3183, 7),   y_train: (3183,)\n",
            "  X_val:   (748, 7),   y_val:   (748,)\n",
            "  X_test:  (939, 7),  y_test:  (939,)\n"
          ]
        }
      ]
    },
    {
      "cell_type": "markdown",
      "source": [
        "# **6. Normalización con StandardScaler**"
      ],
      "metadata": {
        "id": "Y-j10BdaNwvj"
      }
    },
    {
      "cell_type": "code",
      "source": [
        "# === 6: Normalización con StandardScaler ===\n",
        "scaler = StandardScaler()\n",
        "X_train_scaled = scaler.fit_transform(X_train)\n",
        "X_val_scaled   = scaler.transform(X_val)\n",
        "X_test_scaled  = scaler.transform(X_test)\n",
        "\n",
        "print(\"✅ Normalización completada:\")\n",
        "print(f\"  X_train_scaled: {X_train_scaled.shape}, X_val_scaled: {X_val_scaled.shape}, X_test_scaled: {X_test_scaled.shape}\")\n"
      ],
      "metadata": {
        "colab": {
          "base_uri": "https://localhost:8080/"
        },
        "id": "bSzVKIiQYJ-S",
        "outputId": "ffb7b1b5-9dd7-4e42-dcd9-c76b2e6ddd91"
      },
      "execution_count": null,
      "outputs": [
        {
          "output_type": "stream",
          "name": "stdout",
          "text": [
            "✅ Normalización completada:\n",
            "  X_train_scaled: (3183, 7), X_val_scaled: (748, 7), X_test_scaled: (939, 7)\n"
          ]
        }
      ]
    },
    {
      "cell_type": "markdown",
      "source": [
        "# **7. Distribución de clases**"
      ],
      "metadata": {
        "id": "BpGtznnyOZGw"
      }
    },
    {
      "cell_type": "code",
      "source": [
        "# === 7: Distribución de clases ===\n",
        "from collections import Counter\n",
        "\n",
        "print(\"Distribución de clases:\")\n",
        "print(\"  Train:\", Counter(y_train))\n",
        "print(\"  Val:  \", Counter(y_val))\n",
        "print(\"  Test: \", Counter(y_test))\n",
        "\n",
        "# Convertimos a DataFrame para %:\n",
        "def print_percentages(y, name):\n",
        "    counts = Counter(y)\n",
        "    total = len(y)\n",
        "    print(f\"{name}:\")\n",
        "    for cls, cnt in counts.items():\n",
        "        print(f\"  Class {cls}: {cnt} ({cnt/total:.2%})\")\n",
        "\n",
        "print_percentages(y_train, \"  Train\")\n",
        "print_percentages(y_val,   \"  Val\")\n",
        "print_percentages(y_test,  \"  Test\")\n"
      ],
      "metadata": {
        "colab": {
          "base_uri": "https://localhost:8080/"
        },
        "id": "ZUfhQ88eYQRa",
        "outputId": "0e71deee-61fe-4df4-b223-10a40cdb0e3b"
      },
      "execution_count": null,
      "outputs": [
        {
          "output_type": "stream",
          "name": "stdout",
          "text": [
            "Distribución de clases:\n",
            "  Train: Counter({np.int64(1): 2547, np.int64(0): 636})\n",
            "  Val:   Counter({np.int64(1): 599, np.int64(0): 149})\n",
            "  Test:  Counter({np.int64(1): 751, np.int64(0): 188})\n",
            "  Train:\n",
            "  Class 0: 636 (19.98%)\n",
            "  Class 1: 2547 (80.02%)\n",
            "  Val:\n",
            "  Class 1: 599 (80.08%)\n",
            "  Class 0: 149 (19.92%)\n",
            "  Test:\n",
            "  Class 1: 751 (79.98%)\n",
            "  Class 0: 188 (20.02%)\n"
          ]
        }
      ]
    },
    {
      "cell_type": "markdown",
      "source": [
        "# **8. Entrenamiento con mejores hiperparámetros:**"
      ],
      "metadata": {
        "id": "rovmYzmoOswa"
      }
    },
    {
      "cell_type": "code",
      "source": [
        "# === 8.1: Configuración de Grid y Stratified CV ===\n",
        "param_grid = {\n",
        "    \"n_estimators\":      [200, 500],\n",
        "    \"max_depth\":         [None, 10, 20],\n",
        "    \"max_features\":      [\"sqrt\", \"log2\"],\n",
        "    \"min_samples_split\": [2, 5]\n",
        "}\n",
        "\n",
        "# Usamos StratifiedKFold para mantener proporciones de clases en cada fold\n",
        "skf = StratifiedKFold(n_splits=3, shuffle=True, random_state=42)\n"
      ],
      "metadata": {
        "id": "9Om1JSWdYTcg"
      },
      "execution_count": null,
      "outputs": []
    },
    {
      "cell_type": "code",
      "source": [
        "# === 8.2: Gridsearchcv para RF (sin class_weight) ===\n",
        "rf_plain = RandomForestClassifier(random_state=42, n_jobs=-1)\n",
        "\n",
        "grid_plain = GridSearchCV(\n",
        "    estimator=rf_plain,\n",
        "    param_grid=param_grid,\n",
        "    cv=skf,\n",
        "    scoring=\"roc_auc\",\n",
        "    n_jobs=-1,\n",
        "    verbose=2\n",
        ")\n",
        "\n",
        "print(\"\\n[INFO] Iniciando GridSearchCV (RF sin class_weight)...\")\n",
        "grid_plain.fit(X_train_scaled, y_train)\n",
        "print(\"[RESULT] RF sin pesos - Mejores parámetros:\")\n",
        "print(grid_plain.best_params_)\n",
        "print(\"Mejor AUC CV (sin pesos):\", grid_plain.best_score_)\n"
      ],
      "metadata": {
        "colab": {
          "base_uri": "https://localhost:8080/"
        },
        "id": "TnBPql7lYWlj",
        "outputId": "8682da00-8282-46eb-b96a-6d63d0c76c14"
      },
      "execution_count": null,
      "outputs": [
        {
          "output_type": "stream",
          "name": "stdout",
          "text": [
            "\n",
            "[INFO] Iniciando GridSearchCV (RF sin class_weight)...\n",
            "Fitting 3 folds for each of 24 candidates, totalling 72 fits\n",
            "[RESULT] RF sin pesos - Mejores parámetros:\n",
            "{'max_depth': 10, 'max_features': 'sqrt', 'min_samples_split': 5, 'n_estimators': 200}\n",
            "Mejor AUC CV (sin pesos): 0.8895667118548642\n"
          ]
        }
      ]
    },
    {
      "cell_type": "code",
      "source": [
        "# === 8.3: Gridsearchcv para RF (con class_weight) ===\n",
        "rf_weighted = RandomForestClassifier(class_weight=\"balanced\", random_state=42, n_jobs=-1)\n",
        "\n",
        "grid_weighted = GridSearchCV(\n",
        "    estimator=rf_weighted,\n",
        "    param_grid=param_grid,\n",
        "    cv=skf,\n",
        "    scoring=\"roc_auc\",\n",
        "    n_jobs=-1,\n",
        "    verbose=2\n",
        ")\n",
        "\n",
        "print(\"\\n[INFO] Iniciando GridSearchCV (RF con class_weight='balanced')...\")\n",
        "grid_weighted.fit(X_train_scaled, y_train)\n",
        "print(\"[RESULT] RF con pesos - Mejores parámetros:\")\n",
        "print(grid_weighted.best_params_)\n",
        "print(\"Mejor AUC CV (con pesos):\", grid_weighted.best_score_)\n"
      ],
      "metadata": {
        "colab": {
          "base_uri": "https://localhost:8080/"
        },
        "id": "C62NPk3LYefl",
        "outputId": "c5196e0c-d89f-4970-c588-ee4a72fb6197"
      },
      "execution_count": null,
      "outputs": [
        {
          "output_type": "stream",
          "name": "stdout",
          "text": [
            "\n",
            "[INFO] Iniciando GridSearchCV (RF con class_weight='balanced')...\n",
            "Fitting 3 folds for each of 24 candidates, totalling 72 fits\n",
            "[RESULT] RF con pesos - Mejores parámetros:\n",
            "{'max_depth': 10, 'max_features': 'sqrt', 'min_samples_split': 2, 'n_estimators': 200}\n",
            "Mejor AUC CV (con pesos): 0.8932854782911454\n"
          ]
        }
      ]
    },
    {
      "cell_type": "markdown",
      "source": [
        "# **9. Evaluación final en conjunto de prueba e impresión de métricas**"
      ],
      "metadata": {
        "id": "Geg3UyyiO3og"
      }
    },
    {
      "cell_type": "code",
      "source": [
        "# === CELDA 9: Evaluar modelos en validación ===\n",
        "def evaluate(name, model, X, y_true):\n",
        "    \"\"\"\n",
        "    Calcula métricas y devuelve un dict con:\n",
        "      Accuracy, Precision, Recall, F1, AUC y Matriz de Confusión.\n",
        "    \"\"\"\n",
        "    results = {\"Model\": name}\n",
        "    y_pred = model.predict(X)\n",
        "    if hasattr(model, \"predict_proba\"):\n",
        "        probs = model.predict_proba(X)[:, 1]\n",
        "        auc = roc_auc_score(y_true, probs)\n",
        "    else:\n",
        "        # Si no hay parametros de spoofing (rare), colocamos nan:\n",
        "        auc = np.nan\n",
        "\n",
        "    results[\"Accuracy\"]  = accuracy_score(y_true, y_pred)\n",
        "    results[\"Precision\"] = precision_score(y_true, y_pred, zero_division=0)\n",
        "    results[\"Recall\"]    = recall_score(y_true, y_pred, zero_division=0)\n",
        "    results[\"F1\"]        = f1_score(y_true, y_pred, zero_division=0)\n",
        "    results[\"AUC\"]       = auc\n",
        "    results[\"ConfMatrix\"]= confusion_matrix(y_true, y_pred)\n",
        "    return results\n",
        "\n",
        "# Extraemos los mejores estimadores\n",
        "best_plain = grid_plain.best_estimator_\n",
        "best_wt    = grid_weighted.best_estimator_\n",
        "\n",
        "# Evaluamos en X_val_scaled\n",
        "res_plain = evaluate(\"RF_plain\", best_plain, X_val_scaled, y_val)\n",
        "res_wt    = evaluate(\"RF_weighted\", best_wt,    X_val_scaled, y_val)\n",
        "\n",
        "# Mostramos métricas\n",
        "df_val_metrics = pd.DataFrame([\n",
        "    {\n",
        "        \"Model\": r[\"Model\"],\n",
        "        \"Accuracy\": r[\"Accuracy\"],\n",
        "        \"Precision\": r[\"Precision\"],\n",
        "        \"Recall\": r[\"Recall\"],\n",
        "        \"F1\": r[\"F1\"],\n",
        "        \"AUC\": r[\"AUC\"]\n",
        "    }\n",
        "    for r in (res_plain, res_wt)\n",
        "]).set_index(\"Model\")\n",
        "\n",
        "print(\"\\n=== Métricas en Validación ===\")\n",
        "display(df_val_metrics)\n",
        "\n",
        "# Imprimimos matrices de confusión\n",
        "print(\"\\nMatriz de Confusión RF_plain:\\n\", res_plain[\"ConfMatrix\"])\n",
        "print(\"Matriz de Confusión RF_weighted:\\n\", res_wt[\"ConfMatrix\"])\n",
        "\n",
        "# Graficar Curvas ROC en Validación\n",
        "plt.figure()\n",
        "for r in (res_plain, res_wt):\n",
        "    name = r[\"Model\"]\n",
        "    model = best_plain if name == \"RF_plain\" else best_wt\n",
        "    probs = model.predict_proba(X_val_scaled)[:,1]\n",
        "    RocCurveDisplay.from_predictions(y_val, probs, name=name)\n",
        "plt.title(\"Curvas ROC en Validación\")\n",
        "plt.legend()\n",
        "plt.show()\n"
      ],
      "metadata": {
        "colab": {
          "base_uri": "https://localhost:8080/",
          "height": 1000
        },
        "id": "pBQW0c3RepJQ",
        "outputId": "1e8232b0-1b3b-48ea-f5e6-d1ff2e720675"
      },
      "execution_count": null,
      "outputs": [
        {
          "output_type": "stream",
          "name": "stdout",
          "text": [
            "\n",
            "=== Métricas en Validación ===\n"
          ]
        },
        {
          "output_type": "display_data",
          "data": {
            "text/plain": [
              "             Accuracy  Precision    Recall        F1       AUC\n",
              "Model                                                         \n",
              "RF_plain     0.828877   0.938547  0.841402  0.887324  0.901895\n",
              "RF_weighted  0.834225   0.983707  0.806344  0.886239  0.902164"
            ],
            "text/html": [
              "\n",
              "  <div id=\"df-d8c33fb2-3027-4e65-a197-634e8af1f827\" class=\"colab-df-container\">\n",
              "    <div>\n",
              "<style scoped>\n",
              "    .dataframe tbody tr th:only-of-type {\n",
              "        vertical-align: middle;\n",
              "    }\n",
              "\n",
              "    .dataframe tbody tr th {\n",
              "        vertical-align: top;\n",
              "    }\n",
              "\n",
              "    .dataframe thead th {\n",
              "        text-align: right;\n",
              "    }\n",
              "</style>\n",
              "<table border=\"1\" class=\"dataframe\">\n",
              "  <thead>\n",
              "    <tr style=\"text-align: right;\">\n",
              "      <th></th>\n",
              "      <th>Accuracy</th>\n",
              "      <th>Precision</th>\n",
              "      <th>Recall</th>\n",
              "      <th>F1</th>\n",
              "      <th>AUC</th>\n",
              "    </tr>\n",
              "    <tr>\n",
              "      <th>Model</th>\n",
              "      <th></th>\n",
              "      <th></th>\n",
              "      <th></th>\n",
              "      <th></th>\n",
              "      <th></th>\n",
              "    </tr>\n",
              "  </thead>\n",
              "  <tbody>\n",
              "    <tr>\n",
              "      <th>RF_plain</th>\n",
              "      <td>0.828877</td>\n",
              "      <td>0.938547</td>\n",
              "      <td>0.841402</td>\n",
              "      <td>0.887324</td>\n",
              "      <td>0.901895</td>\n",
              "    </tr>\n",
              "    <tr>\n",
              "      <th>RF_weighted</th>\n",
              "      <td>0.834225</td>\n",
              "      <td>0.983707</td>\n",
              "      <td>0.806344</td>\n",
              "      <td>0.886239</td>\n",
              "      <td>0.902164</td>\n",
              "    </tr>\n",
              "  </tbody>\n",
              "</table>\n",
              "</div>\n",
              "    <div class=\"colab-df-buttons\">\n",
              "\n",
              "  <div class=\"colab-df-container\">\n",
              "    <button class=\"colab-df-convert\" onclick=\"convertToInteractive('df-d8c33fb2-3027-4e65-a197-634e8af1f827')\"\n",
              "            title=\"Convert this dataframe to an interactive table.\"\n",
              "            style=\"display:none;\">\n",
              "\n",
              "  <svg xmlns=\"http://www.w3.org/2000/svg\" height=\"24px\" viewBox=\"0 -960 960 960\">\n",
              "    <path d=\"M120-120v-720h720v720H120Zm60-500h600v-160H180v160Zm220 220h160v-160H400v160Zm0 220h160v-160H400v160ZM180-400h160v-160H180v160Zm440 0h160v-160H620v160ZM180-180h160v-160H180v160Zm440 0h160v-160H620v160Z\"/>\n",
              "  </svg>\n",
              "    </button>\n",
              "\n",
              "  <style>\n",
              "    .colab-df-container {\n",
              "      display:flex;\n",
              "      gap: 12px;\n",
              "    }\n",
              "\n",
              "    .colab-df-convert {\n",
              "      background-color: #E8F0FE;\n",
              "      border: none;\n",
              "      border-radius: 50%;\n",
              "      cursor: pointer;\n",
              "      display: none;\n",
              "      fill: #1967D2;\n",
              "      height: 32px;\n",
              "      padding: 0 0 0 0;\n",
              "      width: 32px;\n",
              "    }\n",
              "\n",
              "    .colab-df-convert:hover {\n",
              "      background-color: #E2EBFA;\n",
              "      box-shadow: 0px 1px 2px rgba(60, 64, 67, 0.3), 0px 1px 3px 1px rgba(60, 64, 67, 0.15);\n",
              "      fill: #174EA6;\n",
              "    }\n",
              "\n",
              "    .colab-df-buttons div {\n",
              "      margin-bottom: 4px;\n",
              "    }\n",
              "\n",
              "    [theme=dark] .colab-df-convert {\n",
              "      background-color: #3B4455;\n",
              "      fill: #D2E3FC;\n",
              "    }\n",
              "\n",
              "    [theme=dark] .colab-df-convert:hover {\n",
              "      background-color: #434B5C;\n",
              "      box-shadow: 0px 1px 3px 1px rgba(0, 0, 0, 0.15);\n",
              "      filter: drop-shadow(0px 1px 2px rgba(0, 0, 0, 0.3));\n",
              "      fill: #FFFFFF;\n",
              "    }\n",
              "  </style>\n",
              "\n",
              "    <script>\n",
              "      const buttonEl =\n",
              "        document.querySelector('#df-d8c33fb2-3027-4e65-a197-634e8af1f827 button.colab-df-convert');\n",
              "      buttonEl.style.display =\n",
              "        google.colab.kernel.accessAllowed ? 'block' : 'none';\n",
              "\n",
              "      async function convertToInteractive(key) {\n",
              "        const element = document.querySelector('#df-d8c33fb2-3027-4e65-a197-634e8af1f827');\n",
              "        const dataTable =\n",
              "          await google.colab.kernel.invokeFunction('convertToInteractive',\n",
              "                                                    [key], {});\n",
              "        if (!dataTable) return;\n",
              "\n",
              "        const docLinkHtml = 'Like what you see? Visit the ' +\n",
              "          '<a target=\"_blank\" href=https://colab.research.google.com/notebooks/data_table.ipynb>data table notebook</a>'\n",
              "          + ' to learn more about interactive tables.';\n",
              "        element.innerHTML = '';\n",
              "        dataTable['output_type'] = 'display_data';\n",
              "        await google.colab.output.renderOutput(dataTable, element);\n",
              "        const docLink = document.createElement('div');\n",
              "        docLink.innerHTML = docLinkHtml;\n",
              "        element.appendChild(docLink);\n",
              "      }\n",
              "    </script>\n",
              "  </div>\n",
              "\n",
              "\n",
              "    <div id=\"df-5d41688c-6028-4108-ae8c-fc16554d536d\">\n",
              "      <button class=\"colab-df-quickchart\" onclick=\"quickchart('df-5d41688c-6028-4108-ae8c-fc16554d536d')\"\n",
              "                title=\"Suggest charts\"\n",
              "                style=\"display:none;\">\n",
              "\n",
              "<svg xmlns=\"http://www.w3.org/2000/svg\" height=\"24px\"viewBox=\"0 0 24 24\"\n",
              "     width=\"24px\">\n",
              "    <g>\n",
              "        <path d=\"M19 3H5c-1.1 0-2 .9-2 2v14c0 1.1.9 2 2 2h14c1.1 0 2-.9 2-2V5c0-1.1-.9-2-2-2zM9 17H7v-7h2v7zm4 0h-2V7h2v10zm4 0h-2v-4h2v4z\"/>\n",
              "    </g>\n",
              "</svg>\n",
              "      </button>\n",
              "\n",
              "<style>\n",
              "  .colab-df-quickchart {\n",
              "      --bg-color: #E8F0FE;\n",
              "      --fill-color: #1967D2;\n",
              "      --hover-bg-color: #E2EBFA;\n",
              "      --hover-fill-color: #174EA6;\n",
              "      --disabled-fill-color: #AAA;\n",
              "      --disabled-bg-color: #DDD;\n",
              "  }\n",
              "\n",
              "  [theme=dark] .colab-df-quickchart {\n",
              "      --bg-color: #3B4455;\n",
              "      --fill-color: #D2E3FC;\n",
              "      --hover-bg-color: #434B5C;\n",
              "      --hover-fill-color: #FFFFFF;\n",
              "      --disabled-bg-color: #3B4455;\n",
              "      --disabled-fill-color: #666;\n",
              "  }\n",
              "\n",
              "  .colab-df-quickchart {\n",
              "    background-color: var(--bg-color);\n",
              "    border: none;\n",
              "    border-radius: 50%;\n",
              "    cursor: pointer;\n",
              "    display: none;\n",
              "    fill: var(--fill-color);\n",
              "    height: 32px;\n",
              "    padding: 0;\n",
              "    width: 32px;\n",
              "  }\n",
              "\n",
              "  .colab-df-quickchart:hover {\n",
              "    background-color: var(--hover-bg-color);\n",
              "    box-shadow: 0 1px 2px rgba(60, 64, 67, 0.3), 0 1px 3px 1px rgba(60, 64, 67, 0.15);\n",
              "    fill: var(--button-hover-fill-color);\n",
              "  }\n",
              "\n",
              "  .colab-df-quickchart-complete:disabled,\n",
              "  .colab-df-quickchart-complete:disabled:hover {\n",
              "    background-color: var(--disabled-bg-color);\n",
              "    fill: var(--disabled-fill-color);\n",
              "    box-shadow: none;\n",
              "  }\n",
              "\n",
              "  .colab-df-spinner {\n",
              "    border: 2px solid var(--fill-color);\n",
              "    border-color: transparent;\n",
              "    border-bottom-color: var(--fill-color);\n",
              "    animation:\n",
              "      spin 1s steps(1) infinite;\n",
              "  }\n",
              "\n",
              "  @keyframes spin {\n",
              "    0% {\n",
              "      border-color: transparent;\n",
              "      border-bottom-color: var(--fill-color);\n",
              "      border-left-color: var(--fill-color);\n",
              "    }\n",
              "    20% {\n",
              "      border-color: transparent;\n",
              "      border-left-color: var(--fill-color);\n",
              "      border-top-color: var(--fill-color);\n",
              "    }\n",
              "    30% {\n",
              "      border-color: transparent;\n",
              "      border-left-color: var(--fill-color);\n",
              "      border-top-color: var(--fill-color);\n",
              "      border-right-color: var(--fill-color);\n",
              "    }\n",
              "    40% {\n",
              "      border-color: transparent;\n",
              "      border-right-color: var(--fill-color);\n",
              "      border-top-color: var(--fill-color);\n",
              "    }\n",
              "    60% {\n",
              "      border-color: transparent;\n",
              "      border-right-color: var(--fill-color);\n",
              "    }\n",
              "    80% {\n",
              "      border-color: transparent;\n",
              "      border-right-color: var(--fill-color);\n",
              "      border-bottom-color: var(--fill-color);\n",
              "    }\n",
              "    90% {\n",
              "      border-color: transparent;\n",
              "      border-bottom-color: var(--fill-color);\n",
              "    }\n",
              "  }\n",
              "</style>\n",
              "\n",
              "      <script>\n",
              "        async function quickchart(key) {\n",
              "          const quickchartButtonEl =\n",
              "            document.querySelector('#' + key + ' button');\n",
              "          quickchartButtonEl.disabled = true;  // To prevent multiple clicks.\n",
              "          quickchartButtonEl.classList.add('colab-df-spinner');\n",
              "          try {\n",
              "            const charts = await google.colab.kernel.invokeFunction(\n",
              "                'suggestCharts', [key], {});\n",
              "          } catch (error) {\n",
              "            console.error('Error during call to suggestCharts:', error);\n",
              "          }\n",
              "          quickchartButtonEl.classList.remove('colab-df-spinner');\n",
              "          quickchartButtonEl.classList.add('colab-df-quickchart-complete');\n",
              "        }\n",
              "        (() => {\n",
              "          let quickchartButtonEl =\n",
              "            document.querySelector('#df-5d41688c-6028-4108-ae8c-fc16554d536d button');\n",
              "          quickchartButtonEl.style.display =\n",
              "            google.colab.kernel.accessAllowed ? 'block' : 'none';\n",
              "        })();\n",
              "      </script>\n",
              "    </div>\n",
              "\n",
              "  <div id=\"id_08fb1da5-7207-48c5-97ee-98ce6a233e26\">\n",
              "    <style>\n",
              "      .colab-df-generate {\n",
              "        background-color: #E8F0FE;\n",
              "        border: none;\n",
              "        border-radius: 50%;\n",
              "        cursor: pointer;\n",
              "        display: none;\n",
              "        fill: #1967D2;\n",
              "        height: 32px;\n",
              "        padding: 0 0 0 0;\n",
              "        width: 32px;\n",
              "      }\n",
              "\n",
              "      .colab-df-generate:hover {\n",
              "        background-color: #E2EBFA;\n",
              "        box-shadow: 0px 1px 2px rgba(60, 64, 67, 0.3), 0px 1px 3px 1px rgba(60, 64, 67, 0.15);\n",
              "        fill: #174EA6;\n",
              "      }\n",
              "\n",
              "      [theme=dark] .colab-df-generate {\n",
              "        background-color: #3B4455;\n",
              "        fill: #D2E3FC;\n",
              "      }\n",
              "\n",
              "      [theme=dark] .colab-df-generate:hover {\n",
              "        background-color: #434B5C;\n",
              "        box-shadow: 0px 1px 3px 1px rgba(0, 0, 0, 0.15);\n",
              "        filter: drop-shadow(0px 1px 2px rgba(0, 0, 0, 0.3));\n",
              "        fill: #FFFFFF;\n",
              "      }\n",
              "    </style>\n",
              "    <button class=\"colab-df-generate\" onclick=\"generateWithVariable('df_val_metrics')\"\n",
              "            title=\"Generate code using this dataframe.\"\n",
              "            style=\"display:none;\">\n",
              "\n",
              "  <svg xmlns=\"http://www.w3.org/2000/svg\" height=\"24px\"viewBox=\"0 0 24 24\"\n",
              "       width=\"24px\">\n",
              "    <path d=\"M7,19H8.4L18.45,9,17,7.55,7,17.6ZM5,21V16.75L18.45,3.32a2,2,0,0,1,2.83,0l1.4,1.43a1.91,1.91,0,0,1,.58,1.4,1.91,1.91,0,0,1-.58,1.4L9.25,21ZM18.45,9,17,7.55Zm-12,3A5.31,5.31,0,0,0,4.9,8.1,5.31,5.31,0,0,0,1,6.5,5.31,5.31,0,0,0,4.9,4.9,5.31,5.31,0,0,0,6.5,1,5.31,5.31,0,0,0,8.1,4.9,5.31,5.31,0,0,0,12,6.5,5.46,5.46,0,0,0,6.5,12Z\"/>\n",
              "  </svg>\n",
              "    </button>\n",
              "    <script>\n",
              "      (() => {\n",
              "      const buttonEl =\n",
              "        document.querySelector('#id_08fb1da5-7207-48c5-97ee-98ce6a233e26 button.colab-df-generate');\n",
              "      buttonEl.style.display =\n",
              "        google.colab.kernel.accessAllowed ? 'block' : 'none';\n",
              "\n",
              "      buttonEl.onclick = () => {\n",
              "        google.colab.notebook.generateWithVariable('df_val_metrics');\n",
              "      }\n",
              "      })();\n",
              "    </script>\n",
              "  </div>\n",
              "\n",
              "    </div>\n",
              "  </div>\n"
            ],
            "application/vnd.google.colaboratory.intrinsic+json": {
              "type": "dataframe",
              "variable_name": "df_val_metrics",
              "summary": "{\n  \"name\": \"df_val_metrics\",\n  \"rows\": 2,\n  \"fields\": [\n    {\n      \"column\": \"Model\",\n      \"properties\": {\n        \"dtype\": \"string\",\n        \"num_unique_values\": 2,\n        \"samples\": [\n          \"RF_weighted\",\n          \"RF_plain\"\n        ],\n        \"semantic_type\": \"\",\n        \"description\": \"\"\n      }\n    },\n    {\n      \"column\": \"Accuracy\",\n      \"properties\": {\n        \"dtype\": \"number\",\n        \"std\": 0.003781319685489574,\n        \"min\": 0.8288770053475936,\n        \"max\": 0.8342245989304813,\n        \"num_unique_values\": 2,\n        \"samples\": [\n          0.8342245989304813,\n          0.8288770053475936\n        ],\n        \"semantic_type\": \"\",\n        \"description\": \"\"\n      }\n    },\n    {\n      \"column\": \"Precision\",\n      \"properties\": {\n        \"dtype\": \"number\",\n        \"std\": 0.031932401262153444,\n        \"min\": 0.9385474860335196,\n        \"max\": 0.9837067209775967,\n        \"num_unique_values\": 2,\n        \"samples\": [\n          0.9837067209775967,\n          0.9385474860335196\n        ],\n        \"semantic_type\": \"\",\n        \"description\": \"\"\n      }\n    },\n    {\n      \"column\": \"Recall\",\n      \"properties\": {\n        \"dtype\": \"number\",\n        \"std\": 0.024790054098359743,\n        \"min\": 0.8063439065108514,\n        \"max\": 0.8414023372287145,\n        \"num_unique_values\": 2,\n        \"samples\": [\n          0.8063439065108514,\n          0.8414023372287145\n        ],\n        \"semantic_type\": \"\",\n        \"description\": \"\"\n      }\n    },\n    {\n      \"column\": \"F1\",\n      \"properties\": {\n        \"dtype\": \"number\",\n        \"std\": 0.0007675018687126564,\n        \"min\": 0.8862385321100917,\n        \"max\": 0.8873239436619719,\n        \"num_unique_values\": 2,\n        \"samples\": [\n          0.8862385321100917,\n          0.8873239436619719\n        ],\n        \"semantic_type\": \"\",\n        \"description\": \"\"\n      }\n    },\n    {\n      \"column\": \"AUC\",\n      \"properties\": {\n        \"dtype\": \"number\",\n        \"std\": 0.00019014423085992,\n        \"min\": 0.9018946566425026,\n        \"max\": 0.9021635611925917,\n        \"num_unique_values\": 2,\n        \"samples\": [\n          0.9021635611925917,\n          0.9018946566425026\n        ],\n        \"semantic_type\": \"\",\n        \"description\": \"\"\n      }\n    }\n  ]\n}"
            }
          },
          "metadata": {}
        },
        {
          "output_type": "stream",
          "name": "stdout",
          "text": [
            "\n",
            "Matriz de Confusión RF_plain:\n",
            " [[116  33]\n",
            " [ 95 504]]\n",
            "Matriz de Confusión RF_weighted:\n",
            " [[141   8]\n",
            " [116 483]]\n"
          ]
        },
        {
          "output_type": "display_data",
          "data": {
            "text/plain": [
              "<Figure size 800x600 with 0 Axes>"
            ]
          },
          "metadata": {}
        },
        {
          "output_type": "display_data",
          "data": {
            "text/plain": [
              "<Figure size 800x600 with 1 Axes>"
            ],
            "image/png": "[encoded data removed]"
          },
          "metadata": {}
        },
        {
          "output_type": "display_data",
          "data": {
            "text/plain": [
              "<Figure size 800x600 with 1 Axes>"
            ],
            "image/png": "[encoded data removed]"
          },
          "metadata": {}
        }
      ]
    },
    {
      "cell_type": "markdown",
      "source": [
        "# **10. Entrenamiento final y evaluación en test**"
      ],
      "metadata": {
        "id": "CnP_uORhPXxD"
      }
    },
    {
      "cell_type": "code",
      "source": [
        "# === 10: Entrenamiento final y evaluación en test ===\n",
        "# Determinamos cuál de los dos obtuvo mejor AUC CV\n",
        "if grid_weighted.best_score_ >= grid_plain.best_score_:\n",
        "    final_model = RandomForestClassifier(\n",
        "        **grid_weighted.best_params_,\n",
        "        class_weight=\"balanced\",\n",
        "        random_state=42,\n",
        "        n_jobs=-1\n",
        "    )\n",
        "    chosen = \"RF_weighted\"\n",
        "else:\n",
        "    final_model = RandomForestClassifier(\n",
        "        **grid_plain.best_params_,\n",
        "        random_state=42,\n",
        "        n_jobs=-1\n",
        "    )\n",
        "    chosen = \"RF_plain\"\n",
        "\n",
        "print(f\"\\n[INFO] Modelo final elegido: {chosen}\")\n",
        "\n",
        "# Reentrenamos sobre train + val combinados\n",
        "X_comb = np.vstack([X_train_scaled, X_val_scaled])\n",
        "y_comb = np.concatenate([y_train, y_val])\n",
        "\n",
        "# Si el modelo elegido es weight, ya instanciamos con class_weight=\"balanced\"\n",
        "# Sino, es el modelo “plain” sin weights\n",
        "final_model.fit(X_comb, y_comb)\n",
        "print(\"[INFO] Entrenamiento final completado (train+val).\")\n",
        "\n",
        "# Evaluación en test\n",
        "res_test = evaluate(\"RF_final\", final_model, X_test_scaled, y_test)\n",
        "print(\"\\n=== Métricas Finales en Test ===\")\n",
        "print(f\"Accuracy:  {res_test['Accuracy']:.4f}\")\n",
        "print(f\"Precision: {res_test['Precision']:.4f}\")\n",
        "print(f\"Recall:    {res_test['Recall']:.4f}\")\n",
        "print(f\"F1-score:  {res_test['F1']:.4f}\")\n",
        "print(f\"AUC:       {res_test['AUC']:.4f}\")\n",
        "print(\"Confusion Matrix:\\n\", res_test[\"ConfMatrix\"])\n",
        "\n",
        "# Curva ROC en test\n",
        "plt.figure()\n",
        "probs_test = final_model.predict_proba(X_test_scaled)[:,1]\n",
        "RocCurveDisplay.from_predictions(y_test, probs_test, name=\"RF_final\")\n",
        "plt.title(\"Curva ROC - Conjunto Test\")\n",
        "plt.show()\n"
      ],
      "metadata": {
        "colab": {
          "base_uri": "https://localhost:8080/",
          "height": 823
        },
        "id": "pq5_uHI4euFS",
        "outputId": "21968128-0efb-4e4e-d984-c4a4bc39a15b"
      },
      "execution_count": null,
      "outputs": [
        {
          "output_type": "stream",
          "name": "stdout",
          "text": [
            "\n",
            "[INFO] Modelo final elegido: RF_weighted\n",
            "[INFO] Entrenamiento final completado (train+val).\n",
            "\n",
            "=== Métricas Finales en Test ===\n",
            "Accuracy:  0.8435\n",
            "Precision: 0.9903\n",
            "Recall:    0.8123\n",
            "F1-score:  0.8925\n",
            "AUC:       0.9106\n",
            "Confusion Matrix:\n",
            " [[182   6]\n",
            " [141 610]]\n"
          ]
        },
        {
          "output_type": "display_data",
          "data": {
            "text/plain": [
              "<Figure size 800x600 with 0 Axes>"
            ]
          },
          "metadata": {}
        },
        {
          "output_type": "display_data",
          "data": {
            "text/plain": [
              "<Figure size 800x600 with 1 Axes>"
            ],
            "image/png": "[encoded data removed]"
          },
          "metadata": {}
        }
      ]
    },
    {
      "cell_type": "markdown",
      "source": [
        "# **11. Exportar modelo final**"
      ],
      "metadata": {
        "id": "yt8dbb-APgqV"
      }
    },
    {
      "cell_type": "code",
      "source": [
        "# === 11: Exportar modelo final ===\n",
        "import joblib\n",
        "\n",
        "model_filename = \"rf_best_model.pkl\"\n",
        "scaler_filename= \"scaler.pkl\"\n",
        "\n",
        "joblib.dump(final_model, model_filename)\n",
        "joblib.dump(scaler, scaler_filename)\n",
        "print(f\"\\n✅ Modelo final guardado como '{model_filename}'\")\n",
        "print(f\"✅ Scaler guardado como '{scaler_filename}'\")\n",
        "\n",
        "from google.colab import files as gfiles\n",
        "gfiles.download(model_filename)\n",
        "gfiles.download(scaler_filename)\n"
      ],
      "metadata": {
        "colab": {
          "base_uri": "https://localhost:8080/",
          "height": 211
        },
        "id": "FD2qyCiHezCm",
        "outputId": "90bb46d0-fc45-4421-8d62-cad89e3cb820"
      },
      "execution_count": null,
      "outputs": [
        {
          "output_type": "error",
          "ename": "NameError",
          "evalue": "name 'final_model' is not defined",
          "traceback": [
            "\u001b[0;31m---------------------------------------------------------------------------\u001b[0m",
            "\u001b[0;31mNameError\u001b[0m                                 Traceback (most recent call last)",
            "\u001b[0;32m<ipython-input-1-2252735756>\u001b[0m in \u001b[0;36m<cell line: 0>\u001b[0;34m()\u001b[0m\n\u001b[1;32m      5\u001b[0m \u001b[0mscaler_filename\u001b[0m\u001b[0;34m=\u001b[0m \u001b[0;34m\"scaler.pkl\"\u001b[0m\u001b[0;34m\u001b[0m\u001b[0;34m\u001b[0m\u001b[0m\n\u001b[1;32m      6\u001b[0m \u001b[0;34m\u001b[0m\u001b[0m\n\u001b[0;32m----> 7\u001b[0;31m \u001b[0mjoblib\u001b[0m\u001b[0;34m.\u001b[0m\u001b[0mdump\u001b[0m\u001b[0;34m(\u001b[0m\u001b[0mfinal_model\u001b[0m\u001b[0;34m,\u001b[0m \u001b[0mmodel_filename\u001b[0m\u001b[0;34m)\u001b[0m\u001b[0;34m\u001b[0m\u001b[0;34m\u001b[0m\u001b[0m\n\u001b[0m\u001b[1;32m      8\u001b[0m \u001b[0mjoblib\u001b[0m\u001b[0;34m.\u001b[0m\u001b[0mdump\u001b[0m\u001b[0;34m(\u001b[0m\u001b[0mscaler\u001b[0m\u001b[0;34m,\u001b[0m \u001b[0mscaler_filename\u001b[0m\u001b[0;34m)\u001b[0m\u001b[0;34m\u001b[0m\u001b[0;34m\u001b[0m\u001b[0m\n\u001b[1;32m      9\u001b[0m \u001b[0mprint\u001b[0m\u001b[0;34m(\u001b[0m\u001b[0;34mf\"\\n✅ Modelo final guardado como '{model_filename}'\"\u001b[0m\u001b[0;34m)\u001b[0m\u001b[0;34m\u001b[0m\u001b[0;34m\u001b[0m\u001b[0m\n",
            "\u001b[0;31mNameError\u001b[0m: name 'final_model' is not defined"
          ]
        }
      ]
    }
  ],
  "metadata": {
    "colab": {
      "provenance": [],
      "collapsed_sections": [
        "GVdbyj_0LH4d"
      ]
    },
    "kernelspec": {
      "display_name": "Python 3",
      "name": "python3"
    },
    "language_info": {
      "name": "python"
    }
  },
  "nbformat": 4,
  "nbformat_minor": 0
}